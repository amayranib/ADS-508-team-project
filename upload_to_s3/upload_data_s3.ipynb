{
 "cells": [
  {
   "cell_type": "markdown",
   "id": "d15d205e-aea0-409d-b7f2-d55466ac53fb",
   "metadata": {},
   "source": [
    "# Upload dataset to S3"
   ]
  },
  {
   "cell_type": "code",
   "execution_count": 1,
   "id": "a357bdb1-e83d-432f-bb28-69ea9a93e310",
   "metadata": {},
   "outputs": [],
   "source": [
    "import pandas as pd \n",
    "\n",
    "import io \n",
    "import boto3 \n",
    "import os \n"
   ]
  },
  {
   "cell_type": "code",
   "execution_count": 4,
   "id": "8fca6d9c-6bab-4718-af34-35442a12570d",
   "metadata": {},
   "outputs": [],
   "source": [
    "# set s3 variables\n",
    "s3 = boto3.client('s3')\n",
    "bucket_name = 'jc-bucket-ads508-2025-finalproject'\n",
    "\n",
    "file_benefits = './employee_benefits_2010_2024.csv'\n",
    "s3_key_benefits = 'datasets/employee_benefits_2010_2024.csv'\n",
    "\n",
    "file_info = './employee_benefits_file_info.csv'\n",
    "s3_key_info = 'datasets/employee_benefits_file_info.csv'"
   ]
  },
  {
   "cell_type": "code",
   "execution_count": 23,
   "id": "a9b4cfdb-cfbd-4d14-95e8-234726458c8a",
   "metadata": {},
   "outputs": [],
   "source": [
    "# upload benefits dataset to s3\n",
    "s3.upload_file(file_benefits, bucket_name, s3_key_benefits)"
   ]
  },
  {
   "cell_type": "code",
   "execution_count": 26,
   "id": "5e1dab03-613c-4c99-aafa-c09a9b41b9a5",
   "metadata": {},
   "outputs": [],
   "source": [
    "# upload file info\n",
    "s3.upload_file(file_benefits, bucket_name, s3_key_info)"
   ]
  },
  {
   "cell_type": "code",
   "execution_count": 5,
   "id": "da7eca09-55c0-49b8-a3f8-4ee029fe6d4e",
   "metadata": {},
   "outputs": [
    {
     "name": "stdout",
     "output_type": "stream",
     "text": [
      "datasets/employee_benefits.xlsx\n",
      "datasets/employee_benefits_2010_2024.csv\n",
      "datasets/employee_benefits_file_info.csv\n"
     ]
    }
   ],
   "source": [
    "# verify that file exists in s3\n",
    "response = s3.list_objects_v2(Bucket=bucket_name, Prefix = 'datasets/')\n",
    "for obj in response.get('Contents', []):\n",
    "    print(obj['Key'])"
   ]
  },
  {
   "cell_type": "code",
   "execution_count": 6,
   "id": "da233eca-6ba9-422e-9013-1d3691d2f4a7",
   "metadata": {},
   "outputs": [
    {
     "name": "stderr",
     "output_type": "stream",
     "text": [
      "/tmp/ipykernel_24270/3951686190.py:4: DtypeWarning: Columns (11,19,23) have mixed types. Specify dtype option on import or set low_memory=False.\n",
      "  df = pd.read_csv(io.BytesIO(obj['Body'].read()))\n"
     ]
    },
    {
     "name": "stdout",
     "output_type": "stream",
     "text": [
      "                                 Survey     Estimate category     Datatype  \\\n",
      "0  Incidence and Key Provision Benefits  Benefit combinations  Access rate   \n",
      "1  Incidence and Key Provision Benefits  Benefit combinations  Access rate   \n",
      "2  Incidence and Key Provision Benefits  Benefit combinations  Access rate   \n",
      "3  Incidence and Key Provision Benefits  Benefit combinations  Access rate   \n",
      "4  Incidence and Key Provision Benefits  Benefit combinations  Access rate   \n",
      "\n",
      "                                           Provision         Ownership  \\\n",
      "0  Access to both medical care and retirement ben...  Civilian workers   \n",
      "1  Access to both medical care and retirement ben...  Civilian workers   \n",
      "2  Access to both medical care and retirement ben...  Civilian workers   \n",
      "3  Access to both medical care and retirement ben...  Civilian workers   \n",
      "4  Access to both medical care and retirement ben...  Civilian workers   \n",
      "\n",
      "         Industry       Occupation Characteristic category Characteristic  \\\n",
      "0  All industries  All occupations             All workers    All workers   \n",
      "1  All industries  All occupations             All workers    All workers   \n",
      "2  All industries  All occupations             All workers    All workers   \n",
      "3  All industries  All occupations             All workers    All workers   \n",
      "4  All industries  All occupations             All workers    All workers   \n",
      "\n",
      "   Year  ...                                      Series title   \\\n",
      "0  2010  ...  Percent of civilian workers with access to bot...   \n",
      "1  2011  ...  Percent of civilian workers with access to bot...   \n",
      "2  2012  ...  Percent of civilian workers with access to bot...   \n",
      "3  2013  ...  Percent of civilian workers with access to bot...   \n",
      "4  2014  ...  Percent of civilian workers with access to bot...   \n",
      "\n",
      "                 Series ID Survey code  Ownership code Estimate code  \\\n",
      "0  NBU10000000000000028007          IP               1             0   \n",
      "1  NBU10000000000000028007          IP               1             0   \n",
      "2  NBU10000000000000028007          IP               1             0   \n",
      "3  NBU10000000000000028007          IP               1             0   \n",
      "4  NBU10000000000000028007          IP               1             0   \n",
      "\n",
      "  Industry code Occupation code  Subcell code  Datatype code Provision code  \n",
      "0        000000               0             0             28              7  \n",
      "1        000000               0             0             28              7  \n",
      "2        000000               0             0             28              7  \n",
      "3        000000               0             0             28              7  \n",
      "4        000000               0             0             28              7  \n",
      "\n",
      "[5 rows x 24 columns]\n"
     ]
    }
   ],
   "source": [
    "# load dataset from s3 into dataframe\n",
    "obj = s3.get_object(Bucket=bucket_name, Key=s3_key_benefits)\n",
    "# read Excel file into dataframe\n",
    "df = pd.read_csv(io.BytesIO(obj['Body'].read()))\n",
    "\n",
    "print(df.head())"
   ]
  },
  {
   "cell_type": "code",
   "execution_count": null,
   "id": "547aa190-61ed-4fbf-bd8b-71bf88729b05",
   "metadata": {},
   "outputs": [],
   "source": []
  }
 ],
 "metadata": {
  "kernelspec": {
   "display_name": "Python 3 (ipykernel)",
   "language": "python",
   "name": "python3"
  },
  "language_info": {
   "codemirror_mode": {
    "name": "ipython",
    "version": 3
   },
   "file_extension": ".py",
   "mimetype": "text/x-python",
   "name": "python",
   "nbconvert_exporter": "python",
   "pygments_lexer": "ipython3",
   "version": "3.11.11"
  }
 },
 "nbformat": 4,
 "nbformat_minor": 5
}
