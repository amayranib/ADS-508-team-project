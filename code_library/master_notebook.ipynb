{
 "cells": [
  {
   "cell_type": "markdown",
   "id": "3a140586",
   "metadata": {},
   "source": [
    "# Master Notebook \n",
    "## Lunara Tech - Full Pipeline\n",
    "\n",
    "\n",
    "This master notebook serves as the central controller for executing the entire data science workflow for Lunara Tech's ADS-508 project: **\"Optimizing Workplace Health Policies Through Predictive Analytics.\"** It sequentially runs all modular notebooks that correspond to key phases of the project, including:\n",
    "\n",
    "1. **Data Ingestion** – Uploading data to Amazon S3\n",
    "2. **Data Processing and Analysis** – Performing EDA and analysis\n",
    "3. **Feature Engineering** – Cleaning, transforming, and preparing datasets\n",
    "4. **Modeling and Evaluation** – Training and evaluating predictive models\n",
    "\n",
    "Each phase is encapsulated in a standalone notebook to ensure clarity, modularity, and reusability. This master notebook orchestrates these steps using Jupyter’s `%run` magic command, ensuring that all phases execute in a logical, reproducible order. This approach also avoids variable conflicts and allows for easier debugging and iteration.\n"
   ]
  },
  {
   "cell_type": "markdown",
   "id": "ae398827",
   "metadata": {},
   "source": [
    "### Step 0: Data Ingestion"
   ]
  },
  {
   "cell_type": "code",
   "execution_count": null,
   "id": "16cd4e99",
   "metadata": {},
   "outputs": [],
   "source": [
    "print(\" * Uploading data to s3\")\n",
    "% run ./00_data_upload.ipynb"
   ]
  },
  {
   "cell_type": "markdown",
   "id": "1d6df887",
   "metadata": {},
   "source": [
    "### Step 1: Data Processing and Analysis"
   ]
  },
  {
   "cell_type": "code",
   "execution_count": null,
   "id": "c029eedc",
   "metadata": {},
   "outputs": [],
   "source": [
    "print(\" * Running Data Processing and Analysis\")\n",
    "%run ./01_data_processing_and_analysis_pipeline.ipynb"
   ]
  },
  {
   "cell_type": "markdown",
   "id": "22c0e678",
   "metadata": {},
   "source": [
    "### Step 2: Feature Engineering"
   ]
  },
  {
   "cell_type": "code",
   "execution_count": null,
   "id": "ea3369bd",
   "metadata": {},
   "outputs": [],
   "source": [
    "print(\"* Data preparation... \")\n",
    "%run ./02_data_preparation.i9pynb \n"
   ]
  },
  {
   "cell_type": "markdown",
   "id": "29a11a77",
   "metadata": {},
   "source": [
    "### Step 3: Modeling and Evaluation"
   ]
  },
  {
   "cell_type": "code",
   "execution_count": null,
   "id": "58f20711",
   "metadata": {},
   "outputs": [],
   "source": [
    "print(\"* Modeling...\")\n",
    "%run ./03_modeling.ipynb"
   ]
  }
 ],
 "metadata": {
  "kernelspec": {
   "display_name": "ads508",
   "language": "python",
   "name": "python3"
  },
  "language_info": {
   "name": "python",
   "version": "3.10.16"
  }
 },
 "nbformat": 4,
 "nbformat_minor": 5
}
