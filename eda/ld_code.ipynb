{
 "cells": [
  {
   "cell_type": "code",
   "execution_count": 3,
   "id": "4ad2f1b1-2b8a-47f1-a93b-7a6c53374b8d",
   "metadata": {},
   "outputs": [
    {
     "name": "stdout",
     "output_type": "stream",
     "text": [
      "Requirement already satisfied: httpimport in /opt/conda/lib/python3.11/site-packages (1.4.1)\n"
     ]
    }
   ],
   "source": [
    "!pip install httpimport"
   ]
  },
  {
   "cell_type": "code",
   "execution_count": 4,
   "id": "cd1f525c-b0c7-463c-a30b-2bc723c96462",
   "metadata": {},
   "outputs": [],
   "source": [
    "import pandas as pd \n",
    "\n",
    "import boto3 \n",
    "import sagemaker \n",
    "import httpimport \n",
    "import io \n",
    "\n",
    "from pyathena import connect "
   ]
  },
  {
   "cell_type": "code",
   "execution_count": 7,
   "id": "b0dc2d89-0cfc-4e9a-a0f8-4ac07fa21329",
   "metadata": {},
   "outputs": [],
   "source": [
    "# initialize sagemaker sesssion and env var\n",
    "sess = sagemaker.Session() \n",
    "bucket = sess.default_bucket() \n",
    "role = sagemaker.get_execution_role() \n",
    "region = boto3.Session().region_name\n",
    "sm = boto3.client(\"sagemaker\", region_name=region) "
   ]
  },
  {
   "cell_type": "code",
   "execution_count": 8,
   "id": "3e209d94-1b4d-4aa7-a1ff-c51f54df0c74",
   "metadata": {},
   "outputs": [
    {
     "name": "stdout",
     "output_type": "stream",
     "text": [
      "Public path: s3://usd-team1-ads508/ld_data/\n"
     ]
    }
   ],
   "source": [
    "# set s3 variables\n",
    "# s3 = boto3.client('s3')\n",
    "# bucket_name = 'jc-bucket-ads508-2025-finalproject'\n",
    "\n",
    "# file_benefits = './employee_benefits_2010_2024.csv'\n",
    "# s3_key_benefits = 'datasets/employee_benefits_2010_2024.csv'\n",
    "s3_public_path = \"s3://usd-team1-ads508/ld_data/\"\n",
    "s3_private_path = f\"s3://{bucket}/ld_data\"\n",
    "\n",
    "print(f\"Public path: {s3_public_path}\")"
   ]
  },
  {
   "cell_type": "code",
   "execution_count": 9,
   "id": "7359e76c-fc09-4401-b38e-7f60a1cd8704",
   "metadata": {},
   "outputs": [],
   "source": [
    "# import jcds \n",
    "with httpimport.github_repo('junclemente', 'jcds', ref='0.1.0'):\n",
    "    import jcds.eda as jeda"
   ]
  },
  {
   "cell_type": "code",
   "execution_count": null,
   "id": "800b3dff-b823-444d-b94c-4e7266d93f6f",
   "metadata": {},
   "outputs": [],
   "source": [
    "# load dataset from s3 into dataframe\n",
    "# obj = s3.get_object(Bucket=bucket_name, Key=s3_key_benefits)\n",
    "# # read Excel file into dataframe\n",
    "# df = pd.read_csv(io.BytesIO(obj['Body'].read()))\n",
    "\n",
    "# print(df.head())"
   ]
  },
  {
   "cell_type": "code",
   "execution_count": 10,
   "id": "208ef46b-8614-44e5-94e2-db7f51801e98",
   "metadata": {},
   "outputs": [
    {
     "name": "stdout",
     "output_type": "stream",
     "text": [
      "Stored 's3_public_path' (str)\n",
      "Stored 's3_private_path' (str)\n"
     ]
    }
   ],
   "source": [
    "# store paths\n",
    "%store s3_public_path\n",
    "%store s3_private_path"
   ]
  },
  {
   "cell_type": "code",
   "execution_count": 11,
   "id": "9d80d418-27ee-4854-8e33-0dbb4af2c58e",
   "metadata": {},
   "outputs": [],
   "source": [
    "# copy csv files from public to private bucket\n",
    "!aws s3 cp --recursive {s3_public_path} {s3_private_path}/ --include \"*.csv\" > /dev/null 2>&1 "
   ]
  },
  {
   "cell_type": "code",
   "execution_count": 14,
   "id": "bc4d075d-12ed-4651-ba9a-49b1e5c623bb",
   "metadata": {},
   "outputs": [
    {
     "ename": "ClientError",
     "evalue": "An error occurred (AccessDenied) when calling the ListObjectsV2 operation: Access Denied",
     "output_type": "error",
     "traceback": [
      "\u001b[0;31m---------------------------------------------------------------------------\u001b[0m",
      "\u001b[0;31mClientError\u001b[0m                               Traceback (most recent call last)",
      "Cell \u001b[0;32mIn[14], line 4\u001b[0m\n\u001b[1;32m      2\u001b[0m s3 \u001b[38;5;241m=\u001b[39m boto3\u001b[38;5;241m.\u001b[39mclient(\u001b[38;5;124m\"\u001b[39m\u001b[38;5;124ms3\u001b[39m\u001b[38;5;124m\"\u001b[39m) \n\u001b[1;32m      3\u001b[0m bucket_name \u001b[38;5;241m=\u001b[39m \u001b[38;5;124m\"\u001b[39m\u001b[38;5;124musd-team1-ads508\u001b[39m\u001b[38;5;124m\"\u001b[39m\n\u001b[0;32m----> 4\u001b[0m response \u001b[38;5;241m=\u001b[39m \u001b[43ms3\u001b[49m\u001b[38;5;241;43m.\u001b[39;49m\u001b[43mlist_objects_v2\u001b[49m\u001b[43m(\u001b[49m\u001b[43mBucket\u001b[49m\u001b[38;5;241;43m=\u001b[39;49m\u001b[43mbucket_name\u001b[49m\u001b[43m)\u001b[49m\n\u001b[1;32m      6\u001b[0m \u001b[38;5;66;03m# extract file details\u001b[39;00m\n\u001b[1;32m      7\u001b[0m \u001b[38;5;28;01mif\u001b[39;00m \u001b[38;5;124m\"\u001b[39m\u001b[38;5;124mContents\u001b[39m\u001b[38;5;124m\"\u001b[39m \u001b[38;5;129;01min\u001b[39;00m response:\n",
      "File \u001b[0;32m/opt/conda/lib/python3.11/site-packages/botocore/client.py:569\u001b[0m, in \u001b[0;36mClientCreator._create_api_method.<locals>._api_call\u001b[0;34m(self, *args, **kwargs)\u001b[0m\n\u001b[1;32m    565\u001b[0m     \u001b[38;5;28;01mraise\u001b[39;00m \u001b[38;5;167;01mTypeError\u001b[39;00m(\n\u001b[1;32m    566\u001b[0m         \u001b[38;5;124mf\u001b[39m\u001b[38;5;124m\"\u001b[39m\u001b[38;5;132;01m{\u001b[39;00mpy_operation_name\u001b[38;5;132;01m}\u001b[39;00m\u001b[38;5;124m() only accepts keyword arguments.\u001b[39m\u001b[38;5;124m\"\u001b[39m\n\u001b[1;32m    567\u001b[0m     )\n\u001b[1;32m    568\u001b[0m \u001b[38;5;66;03m# The \"self\" in this scope is referring to the BaseClient.\u001b[39;00m\n\u001b[0;32m--> 569\u001b[0m \u001b[38;5;28;01mreturn\u001b[39;00m \u001b[38;5;28;43mself\u001b[39;49m\u001b[38;5;241;43m.\u001b[39;49m\u001b[43m_make_api_call\u001b[49m\u001b[43m(\u001b[49m\u001b[43moperation_name\u001b[49m\u001b[43m,\u001b[49m\u001b[43m \u001b[49m\u001b[43mkwargs\u001b[49m\u001b[43m)\u001b[49m\n",
      "File \u001b[0;32m/opt/conda/lib/python3.11/site-packages/botocore/client.py:1023\u001b[0m, in \u001b[0;36mBaseClient._make_api_call\u001b[0;34m(self, operation_name, api_params)\u001b[0m\n\u001b[1;32m   1019\u001b[0m     error_code \u001b[38;5;241m=\u001b[39m error_info\u001b[38;5;241m.\u001b[39mget(\u001b[38;5;124m\"\u001b[39m\u001b[38;5;124mQueryErrorCode\u001b[39m\u001b[38;5;124m\"\u001b[39m) \u001b[38;5;129;01mor\u001b[39;00m error_info\u001b[38;5;241m.\u001b[39mget(\n\u001b[1;32m   1020\u001b[0m         \u001b[38;5;124m\"\u001b[39m\u001b[38;5;124mCode\u001b[39m\u001b[38;5;124m\"\u001b[39m\n\u001b[1;32m   1021\u001b[0m     )\n\u001b[1;32m   1022\u001b[0m     error_class \u001b[38;5;241m=\u001b[39m \u001b[38;5;28mself\u001b[39m\u001b[38;5;241m.\u001b[39mexceptions\u001b[38;5;241m.\u001b[39mfrom_code(error_code)\n\u001b[0;32m-> 1023\u001b[0m     \u001b[38;5;28;01mraise\u001b[39;00m error_class(parsed_response, operation_name)\n\u001b[1;32m   1024\u001b[0m \u001b[38;5;28;01melse\u001b[39;00m:\n\u001b[1;32m   1025\u001b[0m     \u001b[38;5;28;01mreturn\u001b[39;00m parsed_response\n",
      "\u001b[0;31mClientError\u001b[0m: An error occurred (AccessDenied) when calling the ListObjectsV2 operation: Access Denied"
     ]
    }
   ],
   "source": [
    "# list objects in bucket\n",
    "s3 = boto3.client(\"s3\") \n",
    "bucket_name = \"usd-team1-ads508\"\n",
    "response = s3.list_objects_v2(Bucket=bucket_name)\n",
    "\n",
    "# extract file details\n",
    "if \"Contents\" in response:\n",
    "    file_list = [{\"Key\": obj[\"Key\"], \"Size (KB)\": obj[\"Size\"] / 1024, \"Last Modified\": obj[\"Last Modified\"]} for obj in response[\"Contents\"]]\n",
    "\n",
    "    # convert to pandas df\n",
    "    df_files = pd.DataFrame(file_list) \n",
    "\n",
    "    # display \n",
    "    print(df_files) \n",
    "else: \n",
    "    print(\"No files founds in the S3 bucket.\")"
   ]
  },
  {
   "cell_type": "code",
   "execution_count": null,
   "id": "e4865a53-95ac-4e0e-ab9d-7d5048324c38",
   "metadata": {},
   "outputs": [],
   "source": []
  }
 ],
 "metadata": {
  "kernelspec": {
   "display_name": "Python 3 (ipykernel)",
   "language": "python",
   "name": "python3"
  },
  "language_info": {
   "codemirror_mode": {
    "name": "ipython",
    "version": 3
   },
   "file_extension": ".py",
   "mimetype": "text/x-python",
   "name": "python",
   "nbconvert_exporter": "python",
   "pygments_lexer": "ipython3",
   "version": "3.11.11"
  }
 },
 "nbformat": 4,
 "nbformat_minor": 5
}
