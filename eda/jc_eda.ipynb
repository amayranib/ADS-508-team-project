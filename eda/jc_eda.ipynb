{
 "cells": [
  {
   "cell_type": "code",
   "execution_count": 2,
   "id": "9c2ed07a-83be-4166-b559-9de4000035b5",
   "metadata": {},
   "outputs": [],
   "source": [
    "import pandas as pd \n",
    "\n",
    "import boto3 \n",
    "import io "
   ]
  },
  {
   "cell_type": "code",
   "execution_count": 3,
   "id": "6fcb2e48-fafa-4c17-974f-1efbb63f3f76",
   "metadata": {},
   "outputs": [],
   "source": [
    "# set s3 variables\n",
    "s3 = boto3.client('s3')\n",
    "bucket_name = 'jc-bucket-ads508-2025-finalproject'\n",
    "\n",
    "file_benefits = './employee_benefits_2010_2024.csv'\n",
    "s3_key_benefits = 'datasets/employee_benefits_2010_2024.csv'"
   ]
  },
  {
   "cell_type": "code",
   "execution_count": 4,
   "id": "89a70219-a449-447b-a679-5a2058818848",
   "metadata": {},
   "outputs": [
    {
     "name": "stderr",
     "output_type": "stream",
     "text": [
      "/tmp/ipykernel_26648/3951686190.py:4: DtypeWarning: Columns (11,19,23) have mixed types. Specify dtype option on import or set low_memory=False.\n",
      "  df = pd.read_csv(io.BytesIO(obj['Body'].read()))\n"
     ]
    },
    {
     "name": "stdout",
     "output_type": "stream",
     "text": [
      "                                 Survey     Estimate category     Datatype  \\\n",
      "0  Incidence and Key Provision Benefits  Benefit combinations  Access rate   \n",
      "1  Incidence and Key Provision Benefits  Benefit combinations  Access rate   \n",
      "2  Incidence and Key Provision Benefits  Benefit combinations  Access rate   \n",
      "3  Incidence and Key Provision Benefits  Benefit combinations  Access rate   \n",
      "4  Incidence and Key Provision Benefits  Benefit combinations  Access rate   \n",
      "\n",
      "                                           Provision         Ownership  \\\n",
      "0  Access to both medical care and retirement ben...  Civilian workers   \n",
      "1  Access to both medical care and retirement ben...  Civilian workers   \n",
      "2  Access to both medical care and retirement ben...  Civilian workers   \n",
      "3  Access to both medical care and retirement ben...  Civilian workers   \n",
      "4  Access to both medical care and retirement ben...  Civilian workers   \n",
      "\n",
      "         Industry       Occupation Characteristic category Characteristic  \\\n",
      "0  All industries  All occupations             All workers    All workers   \n",
      "1  All industries  All occupations             All workers    All workers   \n",
      "2  All industries  All occupations             All workers    All workers   \n",
      "3  All industries  All occupations             All workers    All workers   \n",
      "4  All industries  All occupations             All workers    All workers   \n",
      "\n",
      "   Year  ...                                      Series title   \\\n",
      "0  2010  ...  Percent of civilian workers with access to bot...   \n",
      "1  2011  ...  Percent of civilian workers with access to bot...   \n",
      "2  2012  ...  Percent of civilian workers with access to bot...   \n",
      "3  2013  ...  Percent of civilian workers with access to bot...   \n",
      "4  2014  ...  Percent of civilian workers with access to bot...   \n",
      "\n",
      "                 Series ID Survey code  Ownership code Estimate code  \\\n",
      "0  NBU10000000000000028007          IP               1             0   \n",
      "1  NBU10000000000000028007          IP               1             0   \n",
      "2  NBU10000000000000028007          IP               1             0   \n",
      "3  NBU10000000000000028007          IP               1             0   \n",
      "4  NBU10000000000000028007          IP               1             0   \n",
      "\n",
      "  Industry code Occupation code  Subcell code  Datatype code Provision code  \n",
      "0        000000               0             0             28              7  \n",
      "1        000000               0             0             28              7  \n",
      "2        000000               0             0             28              7  \n",
      "3        000000               0             0             28              7  \n",
      "4        000000               0             0             28              7  \n",
      "\n",
      "[5 rows x 24 columns]\n"
     ]
    }
   ],
   "source": [
    "# load dataset from s3 into dataframe\n",
    "obj = s3.get_object(Bucket=bucket_name, Key=s3_key_benefits)\n",
    "# read Excel file into dataframe\n",
    "df = pd.read_csv(io.BytesIO(obj['Body'].read()))\n",
    "\n",
    "print(df.head())"
   ]
  },
  {
   "cell_type": "code",
   "execution_count": null,
   "id": "736e2778-d083-4e49-a554-8540767a17a6",
   "metadata": {},
   "outputs": [],
   "source": []
  }
 ],
 "metadata": {
  "kernelspec": {
   "display_name": "Python 3 (ipykernel)",
   "language": "python",
   "name": "python3"
  },
  "language_info": {
   "codemirror_mode": {
    "name": "ipython",
    "version": 3
   },
   "file_extension": ".py",
   "mimetype": "text/x-python",
   "name": "python",
   "nbconvert_exporter": "python",
   "pygments_lexer": "ipython3",
   "version": "3.11.11"
  }
 },
 "nbformat": 4,
 "nbformat_minor": 5
}
